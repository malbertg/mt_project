{
  "cells": [
    {
      "cell_type": "markdown",
      "metadata": {
        "id": "TxBnwr-mRaqI"
      },
      "source": [
        "# Machine Translation Project\n",
        "How may a (target) language change over time if we use MT persistently? Compare\n",
        "(automatically) the MT output and the original translation of a (large) set of texts to check\n",
        "if there are any words and/or structures that get used less/more frequently."
      ]
    },
    {
      "cell_type": "markdown",
      "source": [
        "## Setup"
      ],
      "metadata": {
        "id": "n_FyTB9BddjU"
      }
    },
    {
      "cell_type": "code",
      "source": [
        "from google.colab import drive\n",
        "drive.mount('/content/drive')"
      ],
      "metadata": {
        "colab": {
          "base_uri": "https://localhost:8080/"
        },
        "id": "23rXOyuiYvfc",
        "outputId": "6d62b891-dd9d-4bff-f5ed-ccf54060df64"
      },
      "execution_count": null,
      "outputs": [
        {
          "output_type": "stream",
          "name": "stdout",
          "text": [
            "Mounted at /content/drive\n"
          ]
        }
      ]
    },
    {
      "cell_type": "code",
      "source": [
        "#%cd 'drive/My Drive/masters/mt/final-project'\n",
        "# Ramon's path"
      ],
      "metadata": {
        "colab": {
          "base_uri": "https://localhost:8080/"
        },
        "id": "aOaHJ3p3ZtHU",
        "outputId": "32326ff2-33cb-43dd-eb51-f027db5ad37e"
      },
      "execution_count": null,
      "outputs": [
        {
          "output_type": "stream",
          "name": "stdout",
          "text": [
            "/content/drive/My Drive/masters/mt/final-project\n"
          ]
        }
      ]
    },
    {
      "cell_type": "code",
      "source": [
        "#%cd 'drive/My Drive/final-project'\n",
        "# Marina's path"
      ],
      "metadata": {
        "colab": {
          "base_uri": "https://localhost:8080/"
        },
        "id": "-6-ysQUBngU2",
        "outputId": "af00fc74-b636-41fc-c7f8-355b0a9fe683"
      },
      "execution_count": null,
      "outputs": [
        {
          "output_type": "stream",
          "name": "stdout",
          "text": [
            "/content/drive/.shortcut-targets-by-id/16iRmuantAnTl-P7C_imCT43a940cQrdI/final-project\n"
          ]
        }
      ]
    },
    {
      "cell_type": "code",
      "source": [
        "!pip install tqdm\n",
        "!pip install sentencepiece\n",
        "!pip install transformers\n",
        "!pip install sacremoses"
      ],
      "metadata": {
        "id": "4I5ImrqhauXD",
        "colab": {
          "base_uri": "https://localhost:8080/"
        },
        "outputId": "864ff4b1-aa52-452d-c776-5f0ad4e198a3"
      },
      "execution_count": null,
      "outputs": [
        {
          "output_type": "stream",
          "name": "stdout",
          "text": [
            "Requirement already satisfied: tqdm in /usr/local/lib/python3.10/dist-packages (4.66.4)\n",
            "Requirement already satisfied: sentencepiece in /usr/local/lib/python3.10/dist-packages (0.1.99)\n",
            "Requirement already satisfied: transformers in /usr/local/lib/python3.10/dist-packages (4.40.1)\n",
            "Requirement already satisfied: filelock in /usr/local/lib/python3.10/dist-packages (from transformers) (3.14.0)\n",
            "Requirement already satisfied: huggingface-hub<1.0,>=0.19.3 in /usr/local/lib/python3.10/dist-packages (from transformers) (0.20.3)\n",
            "Requirement already satisfied: numpy>=1.17 in /usr/local/lib/python3.10/dist-packages (from transformers) (1.25.2)\n",
            "Requirement already satisfied: packaging>=20.0 in /usr/local/lib/python3.10/dist-packages (from transformers) (24.0)\n",
            "Requirement already satisfied: pyyaml>=5.1 in /usr/local/lib/python3.10/dist-packages (from transformers) (6.0.1)\n",
            "Requirement already satisfied: regex!=2019.12.17 in /usr/local/lib/python3.10/dist-packages (from transformers) (2023.12.25)\n",
            "Requirement already satisfied: requests in /usr/local/lib/python3.10/dist-packages (from transformers) (2.31.0)\n",
            "Requirement already satisfied: tokenizers<0.20,>=0.19 in /usr/local/lib/python3.10/dist-packages (from transformers) (0.19.1)\n",
            "Requirement already satisfied: safetensors>=0.4.1 in /usr/local/lib/python3.10/dist-packages (from transformers) (0.4.3)\n",
            "Requirement already satisfied: tqdm>=4.27 in /usr/local/lib/python3.10/dist-packages (from transformers) (4.66.4)\n",
            "Requirement already satisfied: fsspec>=2023.5.0 in /usr/local/lib/python3.10/dist-packages (from huggingface-hub<1.0,>=0.19.3->transformers) (2023.6.0)\n",
            "Requirement already satisfied: typing-extensions>=3.7.4.3 in /usr/local/lib/python3.10/dist-packages (from huggingface-hub<1.0,>=0.19.3->transformers) (4.11.0)\n",
            "Requirement already satisfied: charset-normalizer<4,>=2 in /usr/local/lib/python3.10/dist-packages (from requests->transformers) (3.3.2)\n",
            "Requirement already satisfied: idna<4,>=2.5 in /usr/local/lib/python3.10/dist-packages (from requests->transformers) (3.7)\n",
            "Requirement already satisfied: urllib3<3,>=1.21.1 in /usr/local/lib/python3.10/dist-packages (from requests->transformers) (2.0.7)\n",
            "Requirement already satisfied: certifi>=2017.4.17 in /usr/local/lib/python3.10/dist-packages (from requests->transformers) (2024.2.2)\n",
            "Collecting sacremoses\n",
            "  Downloading sacremoses-0.1.1-py3-none-any.whl (897 kB)\n",
            "\u001b[2K     \u001b[90m━━━━━━━━━━━━━━━━━━━━━━━━━━━━━━━━━━━━━━━━\u001b[0m \u001b[32m897.5/897.5 kB\u001b[0m \u001b[31m7.8 MB/s\u001b[0m eta \u001b[36m0:00:00\u001b[0m\n",
            "\u001b[?25hRequirement already satisfied: regex in /usr/local/lib/python3.10/dist-packages (from sacremoses) (2023.12.25)\n",
            "Requirement already satisfied: click in /usr/local/lib/python3.10/dist-packages (from sacremoses) (8.1.7)\n",
            "Requirement already satisfied: joblib in /usr/local/lib/python3.10/dist-packages (from sacremoses) (1.4.2)\n",
            "Requirement already satisfied: tqdm in /usr/local/lib/python3.10/dist-packages (from sacremoses) (4.66.4)\n",
            "Installing collected packages: sacremoses\n",
            "Successfully installed sacremoses-0.1.1\n"
          ]
        }
      ]
    },
    {
      "cell_type": "code",
      "source": [
        "import pandas as pd\n",
        "from tqdm import tqdm\n",
        "from transformers import pipeline"
      ],
      "metadata": {
        "id": "Hlg4XX07xBXT"
      },
      "execution_count": null,
      "outputs": []
    },
    {
      "cell_type": "markdown",
      "source": [
        "## Translations"
      ],
      "metadata": {
        "id": "ua80blq7dgVu"
      }
    },
    {
      "cell_type": "code",
      "source": [
        "# read write operations\n",
        "def read_corpus(filepath):\n",
        "    examples = []\n",
        "    with open(filepath, 'r') as file:\n",
        "        lines = file.readlines()\n",
        "        for line in lines:\n",
        "            examples.append(line.strip())\n",
        "    return examples\n",
        "\n",
        "\n",
        "def write_translations(filepath, translations):\n",
        "    with open(filepath, \"w\", encoding=\"utf-8\") as file:\n",
        "        for sentence in translations:\n",
        "            file.write(sentence + \"\\n\")"
      ],
      "metadata": {
        "id": "Ihoxx74GeT6U"
      },
      "execution_count": null,
      "outputs": []
    },
    {
      "cell_type": "code",
      "source": [
        "path_to_english_file = 'corpora/europarl-v7.es-en.en'\n",
        "path_to_spanish_file = 'corpora/europarl-v7.es-en.es'\n",
        "\n",
        "en_parl = read_corpus(path_to_english_file)\n",
        "es_parl = read_corpus(path_to_spanish_file)"
      ],
      "metadata": {
        "id": "-g9K4m0DcG77"
      },
      "execution_count": null,
      "outputs": []
    },
    {
      "cell_type": "code",
      "source": [
        "# Don't rerun unless you want to be stuck for 30 minutes or more\n",
        "es_en_model = 'Helsinki-NLP/opus-mt-es-en'\n",
        "translator = pipeline(task=\"translation\", model=es_en_model, device=0)\n",
        "#translation = translator(es_parl[0:5])\n",
        "\n",
        "# Iterate through each sentence in es_parl and translate\n",
        "tr_en_texts = []\n",
        "for sentence in tqdm(es_parl[0:1000]):\n",
        "    translation = translator(sentence)\n",
        "    tr_en_texts.append(translation)"
      ],
      "metadata": {
        "colab": {
          "base_uri": "https://localhost:8080/"
        },
        "id": "qAb1orLdgZi0",
        "outputId": "a9f1c14a-ff57-46c5-dba3-08eab4a570ad"
      },
      "execution_count": null,
      "outputs": [
        {
          "output_type": "stream",
          "name": "stderr",
          "text": [
            "100%|██████████| 1000/1000 [29:55<00:00,  1.80s/it]\n"
          ]
        }
      ]
    },
    {
      "cell_type": "code",
      "source": [
        "translations = [text[0][\"translation_text\"] for text in tr_en_texts]\n",
        "print(translations[0])\n",
        "write_translations(\"translations_europarl_es_en.txt\", translations)"
      ],
      "metadata": {
        "colab": {
          "base_uri": "https://localhost:8080/"
        },
        "id": "59IlV7DViaUD",
        "outputId": "5886df27-fae8-45c7-aa65-5ce570acb993"
      },
      "execution_count": null,
      "outputs": [
        {
          "output_type": "stream",
          "name": "stdout",
          "text": [
            "Resumption of the session\n"
          ]
        }
      ]
    },
    {
      "cell_type": "markdown",
      "source": [
        "## Creation of a comparison file"
      ],
      "metadata": {
        "id": "y5drxpMOxTqP"
      }
    },
    {
      "cell_type": "code",
      "source": [
        "spanish = es_parl[:1000]"
      ],
      "metadata": {
        "id": "VO_ekd6wq3qZ"
      },
      "execution_count": null,
      "outputs": []
    },
    {
      "cell_type": "code",
      "source": [
        "english = en_parl[:1000]"
      ],
      "metadata": {
        "id": "YriiAzGLqZwc"
      },
      "execution_count": null,
      "outputs": []
    },
    {
      "cell_type": "code",
      "source": [
        "translations = read_corpus(\"translations_europarl_es_en.txt\")"
      ],
      "metadata": {
        "id": "ZF1XaSiBnCr8"
      },
      "execution_count": null,
      "outputs": []
    },
    {
      "cell_type": "code",
      "source": [
        "comparison_df = pd.DataFrame({'spanish' : spanish,\n",
        "                                'english_human' : english,\n",
        "                                'english_mt' : translations },\n",
        "                                columns=['spanish','english_human', 'english_mt'])\n"
      ],
      "metadata": {
        "id": "vfbsAhAyt9CP"
      },
      "execution_count": null,
      "outputs": []
    },
    {
      "cell_type": "code",
      "source": [
        "comparison_df"
      ],
      "metadata": {
        "colab": {
          "base_uri": "https://localhost:8080/",
          "height": 423
        },
        "id": "RX58PKcUuisj",
        "outputId": "84d1d3cb-e290-4dfc-de3e-63cb32a04488"
      },
      "execution_count": null,
      "outputs": [
        {
          "output_type": "execute_result",
          "data": {
            "text/plain": [
              "                                               spanish  \\\n",
              "0                  Reanudación del período de sesiones   \n",
              "1    Declaro reanudado el período de sesiones del P...   \n",
              "2    Como todos han podido comprobar, el gran \"efec...   \n",
              "3    Sus Señorías han solicitado un debate sobre el...   \n",
              "4    A la espera de que se produzca, de acuerdo con...   \n",
              "..                                                 ...   \n",
              "995  Quiero felicitarlo, pese a que, lamentablement...   \n",
              "996  Antes ha dicho que el informe se ha aprobado c...   \n",
              "997  De modo que, aunque puedo no compartir sus con...   \n",
              "998  La primera es las posibilidades de renacionali...   \n",
              "999  Sé que la Comisión se opone a ello, pero esas ...   \n",
              "\n",
              "                                         english_human  \\\n",
              "0                            Resumption of the session   \n",
              "1    I declare resumed the session of the European ...   \n",
              "2    Although, as you will have seen, the dreaded '...   \n",
              "3    You have requested a debate on this subject in...   \n",
              "4    In the meantime, I should like to observe a mi...   \n",
              "..                                                 ...   \n",
              "995  I want to congratulate him, sadly in his absen...   \n",
              "996  He mentioned earlier that the report was carri...   \n",
              "997  So although I may not share his conclusions, I...   \n",
              "998  The first is the potential for renationalisati...   \n",
              "999  I know that the Commission is set against this...   \n",
              "\n",
              "                                            english_mt  \n",
              "0                            Resumption of the session  \n",
              "1    I declare resumed the session of the European ...  \n",
              "2    As everyone has seen, the great \"effect of the...  \n",
              "3    You have asked for a debate on the subject in ...  \n",
              "4    Waiting for this to happen, according to many ...  \n",
              "..                                                 ...  \n",
              "995  I would like to congratulate him, although he ...  \n",
              "996  He said earlier that the report had been adopt...  \n",
              "997  So, although I may not share your conclusions,...  \n",
              "998  The first is the possibility of renationalisat...  \n",
              "999  I know that the Commission is opposed to this,...  \n",
              "\n",
              "[1000 rows x 3 columns]"
            ],
            "text/html": [
              "\n",
              "  <div id=\"df-82bebecf-b1af-4d30-b6d7-499e928d0ff4\" class=\"colab-df-container\">\n",
              "    <div>\n",
              "<style scoped>\n",
              "    .dataframe tbody tr th:only-of-type {\n",
              "        vertical-align: middle;\n",
              "    }\n",
              "\n",
              "    .dataframe tbody tr th {\n",
              "        vertical-align: top;\n",
              "    }\n",
              "\n",
              "    .dataframe thead th {\n",
              "        text-align: right;\n",
              "    }\n",
              "</style>\n",
              "<table border=\"1\" class=\"dataframe\">\n",
              "  <thead>\n",
              "    <tr style=\"text-align: right;\">\n",
              "      <th></th>\n",
              "      <th>spanish</th>\n",
              "      <th>english_human</th>\n",
              "      <th>english_mt</th>\n",
              "    </tr>\n",
              "  </thead>\n",
              "  <tbody>\n",
              "    <tr>\n",
              "      <th>0</th>\n",
              "      <td>Reanudación del período de sesiones</td>\n",
              "      <td>Resumption of the session</td>\n",
              "      <td>Resumption of the session</td>\n",
              "    </tr>\n",
              "    <tr>\n",
              "      <th>1</th>\n",
              "      <td>Declaro reanudado el período de sesiones del P...</td>\n",
              "      <td>I declare resumed the session of the European ...</td>\n",
              "      <td>I declare resumed the session of the European ...</td>\n",
              "    </tr>\n",
              "    <tr>\n",
              "      <th>2</th>\n",
              "      <td>Como todos han podido comprobar, el gran \"efec...</td>\n",
              "      <td>Although, as you will have seen, the dreaded '...</td>\n",
              "      <td>As everyone has seen, the great \"effect of the...</td>\n",
              "    </tr>\n",
              "    <tr>\n",
              "      <th>3</th>\n",
              "      <td>Sus Señorías han solicitado un debate sobre el...</td>\n",
              "      <td>You have requested a debate on this subject in...</td>\n",
              "      <td>You have asked for a debate on the subject in ...</td>\n",
              "    </tr>\n",
              "    <tr>\n",
              "      <th>4</th>\n",
              "      <td>A la espera de que se produzca, de acuerdo con...</td>\n",
              "      <td>In the meantime, I should like to observe a mi...</td>\n",
              "      <td>Waiting for this to happen, according to many ...</td>\n",
              "    </tr>\n",
              "    <tr>\n",
              "      <th>...</th>\n",
              "      <td>...</td>\n",
              "      <td>...</td>\n",
              "      <td>...</td>\n",
              "    </tr>\n",
              "    <tr>\n",
              "      <th>995</th>\n",
              "      <td>Quiero felicitarlo, pese a que, lamentablement...</td>\n",
              "      <td>I want to congratulate him, sadly in his absen...</td>\n",
              "      <td>I would like to congratulate him, although he ...</td>\n",
              "    </tr>\n",
              "    <tr>\n",
              "      <th>996</th>\n",
              "      <td>Antes ha dicho que el informe se ha aprobado c...</td>\n",
              "      <td>He mentioned earlier that the report was carri...</td>\n",
              "      <td>He said earlier that the report had been adopt...</td>\n",
              "    </tr>\n",
              "    <tr>\n",
              "      <th>997</th>\n",
              "      <td>De modo que, aunque puedo no compartir sus con...</td>\n",
              "      <td>So although I may not share his conclusions, I...</td>\n",
              "      <td>So, although I may not share your conclusions,...</td>\n",
              "    </tr>\n",
              "    <tr>\n",
              "      <th>998</th>\n",
              "      <td>La primera es las posibilidades de renacionali...</td>\n",
              "      <td>The first is the potential for renationalisati...</td>\n",
              "      <td>The first is the possibility of renationalisat...</td>\n",
              "    </tr>\n",
              "    <tr>\n",
              "      <th>999</th>\n",
              "      <td>Sé que la Comisión se opone a ello, pero esas ...</td>\n",
              "      <td>I know that the Commission is set against this...</td>\n",
              "      <td>I know that the Commission is opposed to this,...</td>\n",
              "    </tr>\n",
              "  </tbody>\n",
              "</table>\n",
              "<p>1000 rows × 3 columns</p>\n",
              "</div>\n",
              "    <div class=\"colab-df-buttons\">\n",
              "\n",
              "  <div class=\"colab-df-container\">\n",
              "    <button class=\"colab-df-convert\" onclick=\"convertToInteractive('df-82bebecf-b1af-4d30-b6d7-499e928d0ff4')\"\n",
              "            title=\"Convert this dataframe to an interactive table.\"\n",
              "            style=\"display:none;\">\n",
              "\n",
              "  <svg xmlns=\"http://www.w3.org/2000/svg\" height=\"24px\" viewBox=\"0 -960 960 960\">\n",
              "    <path d=\"M120-120v-720h720v720H120Zm60-500h600v-160H180v160Zm220 220h160v-160H400v160Zm0 220h160v-160H400v160ZM180-400h160v-160H180v160Zm440 0h160v-160H620v160ZM180-180h160v-160H180v160Zm440 0h160v-160H620v160Z\"/>\n",
              "  </svg>\n",
              "    </button>\n",
              "\n",
              "  <style>\n",
              "    .colab-df-container {\n",
              "      display:flex;\n",
              "      gap: 12px;\n",
              "    }\n",
              "\n",
              "    .colab-df-convert {\n",
              "      background-color: #E8F0FE;\n",
              "      border: none;\n",
              "      border-radius: 50%;\n",
              "      cursor: pointer;\n",
              "      display: none;\n",
              "      fill: #1967D2;\n",
              "      height: 32px;\n",
              "      padding: 0 0 0 0;\n",
              "      width: 32px;\n",
              "    }\n",
              "\n",
              "    .colab-df-convert:hover {\n",
              "      background-color: #E2EBFA;\n",
              "      box-shadow: 0px 1px 2px rgba(60, 64, 67, 0.3), 0px 1px 3px 1px rgba(60, 64, 67, 0.15);\n",
              "      fill: #174EA6;\n",
              "    }\n",
              "\n",
              "    .colab-df-buttons div {\n",
              "      margin-bottom: 4px;\n",
              "    }\n",
              "\n",
              "    [theme=dark] .colab-df-convert {\n",
              "      background-color: #3B4455;\n",
              "      fill: #D2E3FC;\n",
              "    }\n",
              "\n",
              "    [theme=dark] .colab-df-convert:hover {\n",
              "      background-color: #434B5C;\n",
              "      box-shadow: 0px 1px 3px 1px rgba(0, 0, 0, 0.15);\n",
              "      filter: drop-shadow(0px 1px 2px rgba(0, 0, 0, 0.3));\n",
              "      fill: #FFFFFF;\n",
              "    }\n",
              "  </style>\n",
              "\n",
              "    <script>\n",
              "      const buttonEl =\n",
              "        document.querySelector('#df-82bebecf-b1af-4d30-b6d7-499e928d0ff4 button.colab-df-convert');\n",
              "      buttonEl.style.display =\n",
              "        google.colab.kernel.accessAllowed ? 'block' : 'none';\n",
              "\n",
              "      async function convertToInteractive(key) {\n",
              "        const element = document.querySelector('#df-82bebecf-b1af-4d30-b6d7-499e928d0ff4');\n",
              "        const dataTable =\n",
              "          await google.colab.kernel.invokeFunction('convertToInteractive',\n",
              "                                                    [key], {});\n",
              "        if (!dataTable) return;\n",
              "\n",
              "        const docLinkHtml = 'Like what you see? Visit the ' +\n",
              "          '<a target=\"_blank\" href=https://colab.research.google.com/notebooks/data_table.ipynb>data table notebook</a>'\n",
              "          + ' to learn more about interactive tables.';\n",
              "        element.innerHTML = '';\n",
              "        dataTable['output_type'] = 'display_data';\n",
              "        await google.colab.output.renderOutput(dataTable, element);\n",
              "        const docLink = document.createElement('div');\n",
              "        docLink.innerHTML = docLinkHtml;\n",
              "        element.appendChild(docLink);\n",
              "      }\n",
              "    </script>\n",
              "  </div>\n",
              "\n",
              "\n",
              "<div id=\"df-22d2cd2b-3abe-4a99-924b-2f4aa1812607\">\n",
              "  <button class=\"colab-df-quickchart\" onclick=\"quickchart('df-22d2cd2b-3abe-4a99-924b-2f4aa1812607')\"\n",
              "            title=\"Suggest charts\"\n",
              "            style=\"display:none;\">\n",
              "\n",
              "<svg xmlns=\"http://www.w3.org/2000/svg\" height=\"24px\"viewBox=\"0 0 24 24\"\n",
              "     width=\"24px\">\n",
              "    <g>\n",
              "        <path d=\"M19 3H5c-1.1 0-2 .9-2 2v14c0 1.1.9 2 2 2h14c1.1 0 2-.9 2-2V5c0-1.1-.9-2-2-2zM9 17H7v-7h2v7zm4 0h-2V7h2v10zm4 0h-2v-4h2v4z\"/>\n",
              "    </g>\n",
              "</svg>\n",
              "  </button>\n",
              "\n",
              "<style>\n",
              "  .colab-df-quickchart {\n",
              "      --bg-color: #E8F0FE;\n",
              "      --fill-color: #1967D2;\n",
              "      --hover-bg-color: #E2EBFA;\n",
              "      --hover-fill-color: #174EA6;\n",
              "      --disabled-fill-color: #AAA;\n",
              "      --disabled-bg-color: #DDD;\n",
              "  }\n",
              "\n",
              "  [theme=dark] .colab-df-quickchart {\n",
              "      --bg-color: #3B4455;\n",
              "      --fill-color: #D2E3FC;\n",
              "      --hover-bg-color: #434B5C;\n",
              "      --hover-fill-color: #FFFFFF;\n",
              "      --disabled-bg-color: #3B4455;\n",
              "      --disabled-fill-color: #666;\n",
              "  }\n",
              "\n",
              "  .colab-df-quickchart {\n",
              "    background-color: var(--bg-color);\n",
              "    border: none;\n",
              "    border-radius: 50%;\n",
              "    cursor: pointer;\n",
              "    display: none;\n",
              "    fill: var(--fill-color);\n",
              "    height: 32px;\n",
              "    padding: 0;\n",
              "    width: 32px;\n",
              "  }\n",
              "\n",
              "  .colab-df-quickchart:hover {\n",
              "    background-color: var(--hover-bg-color);\n",
              "    box-shadow: 0 1px 2px rgba(60, 64, 67, 0.3), 0 1px 3px 1px rgba(60, 64, 67, 0.15);\n",
              "    fill: var(--button-hover-fill-color);\n",
              "  }\n",
              "\n",
              "  .colab-df-quickchart-complete:disabled,\n",
              "  .colab-df-quickchart-complete:disabled:hover {\n",
              "    background-color: var(--disabled-bg-color);\n",
              "    fill: var(--disabled-fill-color);\n",
              "    box-shadow: none;\n",
              "  }\n",
              "\n",
              "  .colab-df-spinner {\n",
              "    border: 2px solid var(--fill-color);\n",
              "    border-color: transparent;\n",
              "    border-bottom-color: var(--fill-color);\n",
              "    animation:\n",
              "      spin 1s steps(1) infinite;\n",
              "  }\n",
              "\n",
              "  @keyframes spin {\n",
              "    0% {\n",
              "      border-color: transparent;\n",
              "      border-bottom-color: var(--fill-color);\n",
              "      border-left-color: var(--fill-color);\n",
              "    }\n",
              "    20% {\n",
              "      border-color: transparent;\n",
              "      border-left-color: var(--fill-color);\n",
              "      border-top-color: var(--fill-color);\n",
              "    }\n",
              "    30% {\n",
              "      border-color: transparent;\n",
              "      border-left-color: var(--fill-color);\n",
              "      border-top-color: var(--fill-color);\n",
              "      border-right-color: var(--fill-color);\n",
              "    }\n",
              "    40% {\n",
              "      border-color: transparent;\n",
              "      border-right-color: var(--fill-color);\n",
              "      border-top-color: var(--fill-color);\n",
              "    }\n",
              "    60% {\n",
              "      border-color: transparent;\n",
              "      border-right-color: var(--fill-color);\n",
              "    }\n",
              "    80% {\n",
              "      border-color: transparent;\n",
              "      border-right-color: var(--fill-color);\n",
              "      border-bottom-color: var(--fill-color);\n",
              "    }\n",
              "    90% {\n",
              "      border-color: transparent;\n",
              "      border-bottom-color: var(--fill-color);\n",
              "    }\n",
              "  }\n",
              "</style>\n",
              "\n",
              "  <script>\n",
              "    async function quickchart(key) {\n",
              "      const quickchartButtonEl =\n",
              "        document.querySelector('#' + key + ' button');\n",
              "      quickchartButtonEl.disabled = true;  // To prevent multiple clicks.\n",
              "      quickchartButtonEl.classList.add('colab-df-spinner');\n",
              "      try {\n",
              "        const charts = await google.colab.kernel.invokeFunction(\n",
              "            'suggestCharts', [key], {});\n",
              "      } catch (error) {\n",
              "        console.error('Error during call to suggestCharts:', error);\n",
              "      }\n",
              "      quickchartButtonEl.classList.remove('colab-df-spinner');\n",
              "      quickchartButtonEl.classList.add('colab-df-quickchart-complete');\n",
              "    }\n",
              "    (() => {\n",
              "      let quickchartButtonEl =\n",
              "        document.querySelector('#df-22d2cd2b-3abe-4a99-924b-2f4aa1812607 button');\n",
              "      quickchartButtonEl.style.display =\n",
              "        google.colab.kernel.accessAllowed ? 'block' : 'none';\n",
              "    })();\n",
              "  </script>\n",
              "</div>\n",
              "    </div>\n",
              "  </div>\n"
            ],
            "application/vnd.google.colaboratory.intrinsic+json": {
              "type": "dataframe",
              "variable_name": "comparison_df",
              "summary": "{\n  \"name\": \"comparison_df\",\n  \"rows\": 1000,\n  \"fields\": [\n    {\n      \"column\": \"spanish\",\n      \"properties\": {\n        \"dtype\": \"string\",\n        \"num_unique_values\": 992,\n        \"samples\": [\n          \"Esta semana celebraremos aqu\\u00ed un debate para hablar de la seguridad del transporte mar\\u00edtimo, debido a la cat\\u00e1strofe del Erika, y tendremos que discutir, a lo largo de este a\\u00f1o, sobre los objetivos, en materia de seguridad, del transporte a\\u00e9reo.\",\n          \"Son los j\\u00f3venes los que desaparecen, los que adquieren formaci\\u00f3n y encuentran empleo fuera de las zonas rurales, lo cual incide desfavorablemente en estas mismas zonas.\",\n          \"Se\\u00f1or Presidente, el Grupo del Partido de los Socialistas Europeos de este Parlamento est\\u00e1 de acuerdo con el informe que acaba de exponer el Sr. Berend y felicita a su autor, tanto por la calidad de sus conclusiones como por su flexibilidad, que ha permitido incorporar en comisi\\u00f3n enmiendas procedentes de los diferentes grupos.\"\n        ],\n        \"semantic_type\": \"\",\n        \"description\": \"\"\n      }\n    },\n    {\n      \"column\": \"english_human\",\n      \"properties\": {\n        \"dtype\": \"string\",\n        \"num_unique_values\": 992,\n        \"samples\": [\n          \"This week we will be holding a debate here on the safety of sea transport, in light of the Erika disaster, and in the course of this year we will have to discuss our objectives in terms of the safety of air transport.\",\n          \"It is the young people who are disappearing, who are getting an education and finding work outside of the rural areas, all of which has an unfavourable effect on those areas.\",\n          \"Even if the Commission is still reluctant to say so in too explicit a fashion, its periodic report demonstrates the urgent need to promote polycentric development of the Community area through the Union' s structural policies and within the scope of the approach initiated by the SEC.\"\n        ],\n        \"semantic_type\": \"\",\n        \"description\": \"\"\n      }\n    },\n    {\n      \"column\": \"english_mt\",\n      \"properties\": {\n        \"dtype\": \"string\",\n        \"num_unique_values\": 992,\n        \"samples\": [\n          \"This week we will have a debate here to discuss maritime transport safety, due to the Erika disaster, and we will have to discuss, over the course of this year, the safety objectives of air transport.\",\n          \"It is young people who disappear, who acquire training and find employment outside rural areas, which has an adverse impact on these same areas.\",\n          \"Mr President, the Group of the Party of European Socialists in this Parliament agrees with the report just presented by Mr Berend and congratulates his author, both on the quality of his conclusions and on his flexibility, which has allowed amendments from the various groups to be incorporated into committee.\"\n        ],\n        \"semantic_type\": \"\",\n        \"description\": \"\"\n      }\n    }\n  ]\n}"
            }
          },
          "metadata": {},
          "execution_count": 13
        }
      ]
    },
    {
      "cell_type": "code",
      "source": [
        "comparison_df.to_csv('comparison.csv', index=True)"
      ],
      "metadata": {
        "id": "GMc2Tg31vTzT"
      },
      "execution_count": null,
      "outputs": []
    },
    {
      "cell_type": "markdown",
      "source": [
        "## Automatic analysis"
      ],
      "metadata": {
        "id": "j7pP15KldiER"
      }
    },
    {
      "cell_type": "markdown",
      "source": [
        "### Comparison of unigrams (words)"
      ],
      "metadata": {
        "id": "jvGHews7xeK8"
      }
    },
    {
      "cell_type": "code",
      "source": [
        "from collections import Counter\n",
        "import nltk\n",
        "from nltk import word_tokenize\n",
        "\n",
        "nltk.download('punkt')\n",
        "\n",
        "\n",
        "# Tokenize function\n",
        "def tokenize(text):\n",
        "    return word_tokenize(text.lower())\n",
        "\n",
        "# Function to count word frequencies\n",
        "def count_word_frequencies(texts):\n",
        "    all_words = []\n",
        "    for text in texts:\n",
        "        tokens = tokenize(text)\n",
        "        all_words.extend(tokens)\n",
        "    return Counter(all_words)\n",
        "\n",
        "# Calculate word frequencies for human translations\n",
        "human_word_freq = count_word_frequencies(comparison_df['english_human'])\n",
        "\n",
        "# Calculate word frequencies for machine translations\n",
        "mt_word_freq = count_word_frequencies(comparison_df['english_mt'])\n",
        "\n",
        "# Compare word frequencies\n",
        "common_words = set(human_word_freq.keys()) & set(mt_word_freq.keys())\n",
        "\n",
        "# Identify significant differences in word frequencies\n",
        "differences = {}\n",
        "for word in common_words:\n",
        "    human_freq = human_word_freq[word]\n",
        "    mt_freq = mt_word_freq[word]\n",
        "    if human_freq != mt_freq:\n",
        "        differences[word] = (human_freq, mt_freq)\n",
        "\n",
        "# Set the threshold for significant frequency difference\n",
        "threshold = 10\n",
        "\n",
        "# Output the significant differences\n",
        "print(\"Significant differences in word frequencies:\")\n",
        "for word, (human_freq, mt_freq) in differences.items():\n",
        "    if abs(human_freq - mt_freq) >= threshold:\n",
        "        print(f\"Word: {word}, Human Frequency: {human_freq}, MT Frequency: {mt_freq}\")\n",
        "\n"
      ],
      "metadata": {
        "colab": {
          "base_uri": "https://localhost:8080/"
        },
        "id": "dGRTDYS8A72_",
        "outputId": "253f8217-edaa-46fe-decb-a235d56a5a85"
      },
      "execution_count": null,
      "outputs": [
        {
          "output_type": "stream",
          "name": "stderr",
          "text": [
            "[nltk_data] Downloading package punkt to /root/nltk_data...\n",
            "[nltk_data]   Unzipping tokenizers/punkt.zip.\n"
          ]
        },
        {
          "output_type": "stream",
          "name": "stdout",
          "text": [
            "Significant differences in word frequencies:\n",
            "Word: (, Human Frequency: 36, MT Frequency: 49\n",
            "Word: be, Human Frequency: 232, MT Frequency: 201\n",
            "Word: something, Human Frequency: 16, MT Frequency: 4\n",
            "Word: ladies, Human Frequency: 6, MT Frequency: 28\n",
            "Word: is, Human Frequency: 444, MT Frequency: 424\n",
            "Word: on, Human Frequency: 300, MT Frequency: 311\n",
            "Word: safety, Human Frequency: 46, MT Frequency: 35\n",
            "Word: ', Human Frequency: 98, MT Frequency: 5\n",
            "Word: you, Human Frequency: 84, MT Frequency: 70\n",
            "Word: gentlemen, Human Frequency: 6, MT Frequency: 28\n",
            "Word: regional, Human Frequency: 59, MT Frequency: 47\n",
            "Word: when, Human Frequency: 42, MT Frequency: 30\n",
            "Word: particularly, Human Frequency: 35, MT Frequency: 19\n",
            "Word: from, Human Frequency: 55, MT Frequency: 65\n",
            "Word: that, Human Frequency: 423, MT Frequency: 509\n",
            "Word: way, Human Frequency: 37, MT Frequency: 19\n",
            "Word: this, Human Frequency: 358, MT Frequency: 325\n",
            "Word: to, Human Frequency: 941, MT Frequency: 887\n",
            "Word: first, Human Frequency: 28, MT Frequency: 50\n",
            "Word: particular, Human Frequency: 21, MT Frequency: 36\n",
            "Word: one, Human Frequency: 65, MT Frequency: 34\n",
            "Word: by, Human Frequency: 152, MT Frequency: 137\n",
            "Word: just, Human Frequency: 35, MT Frequency: 19\n",
            "Word: security, Human Frequency: 1, MT Frequency: 11\n",
            "Word: where, Human Frequency: 33, MT Frequency: 16\n",
            "Word: did, Human Frequency: 14, MT Frequency: 1\n",
            "Word: i, Human Frequency: 328, MT Frequency: 343\n",
            "Word: and, Human Frequency: 773, MT Frequency: 784\n",
            "Word: for, Human Frequency: 320, MT Frequency: 275\n",
            "Word: case, Human Frequency: 27, MT Frequency: 37\n",
            "Word: should, Human Frequency: 91, MT Frequency: 63\n",
            "Word: make, Human Frequency: 46, MT Frequency: 31\n",
            "Word: therefore, Human Frequency: 44, MT Frequency: 57\n",
            "Word: more, Human Frequency: 74, MT Frequency: 60\n",
            "Word: as, Human Frequency: 199, MT Frequency: 178\n",
            "Word: which, Human Frequency: 223, MT Frequency: 145\n",
            "Word: also, Human Frequency: 93, MT Frequency: 104\n",
            "Word: was, Human Frequency: 51, MT Frequency: 40\n",
            "Word: 's, Human Frequency: 16, MT Frequency: 81\n",
            "Word: we, Human Frequency: 301, MT Frequency: 270\n",
            "Word: are, Human Frequency: 192, MT Frequency: 172\n",
            "Word: a, Human Frequency: 419, MT Frequency: 372\n",
            "Word: :, Human Frequency: 21, MT Frequency: 31\n",
            "Word: in, Human Frequency: 681, MT Frequency: 697\n",
            "Word: there, Human Frequency: 95, MT Frequency: 73\n",
            "Word: regarding, Human Frequency: 24, MT Frequency: 1\n",
            "Word: mr, Human Frequency: 148, MT Frequency: 138\n",
            "Word: however, Human Frequency: 30, MT Frequency: 41\n",
            "Word: public, Human Frequency: 16, MT Frequency: 26\n",
            "Word: being, Human Frequency: 33, MT Frequency: 18\n",
            "Word: may, Human Frequency: 21, MT Frequency: 8\n",
            "Word: shall, Human Frequency: 25, MT Frequency: 4\n",
            "Word: still, Human Frequency: 28, MT Frequency: 13\n",
            "Word: they, Human Frequency: 62, MT Frequency: 43\n",
            "Word: will, Human Frequency: 115, MT Frequency: 134\n",
            "Word: fact, Human Frequency: 24, MT Frequency: 12\n",
            "Word: ., Human Frequency: 997, MT Frequency: 960\n",
            "Word: matter, Human Frequency: 28, MT Frequency: 11\n",
            "Word: implementation, Human Frequency: 10, MT Frequency: 23\n",
            "Word: were, Human Frequency: 38, MT Frequency: 19\n",
            "Word: of, Human Frequency: 1037, MT Frequency: 1158\n",
            "Word: has, Human Frequency: 150, MT Frequency: 164\n",
            "Word: the, Human Frequency: 2095, MT Frequency: 2277\n"
          ]
        }
      ]
    },
    {
      "cell_type": "markdown",
      "source": [
        "### Estimating lexical richness: Perplexity & Type-Token Ratio"
      ],
      "metadata": {
        "id": "O4XwZiVClbeA"
      }
    },
    {
      "cell_type": "code",
      "source": [
        "import numpy as np\n",
        "from collections import Counter\n",
        "\n",
        "def calculate_unigram_probabilities(texts):\n",
        "    # Count the frequency of each word\n",
        "    word_freq = count_word_frequencies(texts)\n",
        "\n",
        "    # Calculate unigram model probabilities\n",
        "    total_words = sum(word_freq.values())  # total number of words in corpus\n",
        "    probs = {word: count / total_words for word, count in word_freq.items()}\n",
        "\n",
        "    return probs\n",
        "\n",
        "def perplexity(probs):\n",
        "    log_probabilities = np.log2(probs)\n",
        "    entropy = -np.mean(log_probabilities)\n",
        "    perplexity = 2 ** entropy\n",
        "    return perplexity\n",
        "\n",
        "def ttr(texts):  # type-token ratio\n",
        "    # Obtain all corpus words\n",
        "    words = []\n",
        "    for text in texts:\n",
        "        tokens = tokenize(text)\n",
        "        words.extend(tokens)\n",
        "\n",
        "    # Count the number of unique words (types)\n",
        "    unique_words = set(words)\n",
        "    num_unique_words = len(unique_words)\n",
        "\n",
        "    # Count the total number of words (tokens)\n",
        "    num_tokens = len(words)\n",
        "\n",
        "    # Calculate the TTR\n",
        "    ttr = num_unique_words / num_tokens\n",
        "\n",
        "    return ttr\n",
        "\n",
        "# Calculate probabilities\n",
        "human_probs = calculate_unigram_probabilities(comparison_df['english_human'])\n",
        "mt_probs = calculate_unigram_probabilities(comparison_df['english_mt'])\n",
        "\n",
        "# Calculate perplexities\n",
        "human_perp = perplexity(list(human_probs.values()))\n",
        "mt_perp = perplexity(list(mt_probs.values()))\n",
        "\n",
        "# Calculate TTRs\n",
        "human_ttr = ttr(comparison_df['english_human'])\n",
        "mt_ttr = ttr(comparison_df['english_mt'])\n",
        "\n",
        "# Comparison time!\n",
        "print(f\"Human texts PERPLEXITY: {human_perp} | MT texts PERPLEXITY: {mt_perp}\")  # does this make any sense? what is our baseline?\n",
        "print(f\"Human texts TTR: {human_ttr} | MT texts TTR: {mt_ttr}\")  # 11.7% vs 11.4% - significant?"
      ],
      "metadata": {
        "colab": {
          "base_uri": "https://localhost:8080/"
        },
        "id": "5qk5kybvlfTJ",
        "outputId": "2b297278-8108-429c-db49-1012685d68d8"
      },
      "execution_count": null,
      "outputs": [
        {
          "output_type": "stream",
          "name": "stdout",
          "text": [
            "Human texts PERPLEXITY: 13009.892610054694 | MT texts PERPLEXITY: 12575.198151663177\n",
            "Human texts TTR: 0.11719503675859086 | MT texts TTR: 0.11438174781014464\n"
          ]
        }
      ]
    },
    {
      "cell_type": "markdown",
      "source": [
        "### Comparison of bigrams"
      ],
      "metadata": {
        "id": "Ip_hDyqAlO34"
      }
    },
    {
      "cell_type": "code",
      "source": [
        "from nltk import bigrams\n",
        "from string import punctuation\n",
        "\n",
        "from nltk.corpus import stopwords\n",
        "\n",
        "nltk.download('stopwords')\n",
        "stop_words = stopwords.words('english')\n",
        "\n",
        "\n",
        "# Function to count bigram frequencies, excluding stopwords and punctuation\n",
        "def count_bigram_frequencies_clean(texts):\n",
        "    all_bigrams = []\n",
        "    for text in texts:\n",
        "        tokens = [token for token in tokenize(text) if token not in stop_words and token not in punctuation]\n",
        "        bigrams_list = list(bigrams(tokens))\n",
        "        all_bigrams.extend(bigrams_list)\n",
        "    return Counter(all_bigrams)\n",
        "\n",
        "# Calculate bigram frequencies for human translations (excluding stopwords and punctuation)\n",
        "human_bigram_freq_clean = count_bigram_frequencies_clean(comparison_df['english_human'])\n",
        "\n",
        "# Calculate bigram frequencies for machine translations (excluding stopwords and punctuation)\n",
        "mt_bigram_freq_clean = count_bigram_frequencies_clean(comparison_df['english_mt'])\n",
        "\n",
        "# Get the top 50 bigrams for human translations\n",
        "top_50_human_bigrams_clean = human_bigram_freq_clean.most_common(50)\n",
        "\n",
        "# Get the top 50 bigrams for machine translations\n",
        "top_50_mt_bigrams_clean = mt_bigram_freq_clean.most_common(50)\n",
        "\n",
        "# Output the top 50 bigrams for human translations\n",
        "print(\"Top 50 meaningful bigrams for human translations:\")\n",
        "for bigram, freq in top_50_human_bigrams_clean:\n",
        "    print(f\"Bigram: {bigram}, Frequency: {freq}\")\n",
        "\n",
        "# Output the top 50 bigrams for machine translations\n",
        "print(\"\\nTop 50 meaningful bigrams for machine translations:\")\n",
        "for bigram, freq in top_50_mt_bigrams_clean:\n",
        "    print(f\"Bigram: {bigram}, Frequency: {freq}\")\n"
      ],
      "metadata": {
        "colab": {
          "base_uri": "https://localhost:8080/"
        },
        "id": "_TNFYv5gDdb9",
        "outputId": "72eaf425-bb1b-4987-c1b6-f095712e72d2"
      },
      "execution_count": null,
      "outputs": [
        {
          "output_type": "stream",
          "name": "stderr",
          "text": [
            "[nltk_data] Downloading package stopwords to /root/nltk_data...\n",
            "[nltk_data]   Unzipping corpora/stopwords.zip.\n"
          ]
        },
        {
          "output_type": "stream",
          "name": "stdout",
          "text": [
            "Top 50 meaningful bigrams for human translations:\n",
            "Bigram: ('would', 'like'), Frequency: 61\n",
            "Bigram: ('mr', 'president'), Frequency: 60\n",
            "Bigram: ('member', 'states'), Frequency: 48\n",
            "Bigram: ('state', 'aid'), Frequency: 47\n",
            "Bigram: ('european', 'union'), Frequency: 33\n",
            "Bigram: ('madam', 'president'), Frequency: 29\n",
            "Bigram: ('competition', 'policy'), Frequency: 29\n",
            "Bigram: ('regional', 'policy'), Frequency: 25\n",
            "Bigram: ('structural', 'funds'), Frequency: 24\n",
            "Bigram: ('dangerous', 'goods'), Frequency: 22\n",
            "Bigram: ('president', 'commissioner'), Frequency: 22\n",
            "Bigram: ('president', 'would'), Frequency: 17\n",
            "Bigram: ('transport', 'dangerous'), Frequency: 15\n",
            "Bigram: ('white', 'paper'), Frequency: 15\n",
            "Bigram: ('internal', 'market'), Frequency: 14\n",
            "Bigram: ('economic', 'social'), Frequency: 14\n",
            "Bigram: ('european', 'parliament'), Frequency: 13\n",
            "Bigram: ('mr', 'koch'), Frequency: 13\n",
            "Bigram: ('like', 'thank'), Frequency: 11\n",
            "Bigram: ('rural', 'areas'), Frequency: 11\n",
            "Bigram: ('periodic', 'report'), Frequency: 11\n",
            "Bigram: ('like', 'make'), Frequency: 10\n",
            "Bigram: ('safety', 'advisers'), Frequency: 10\n",
            "Bigram: ('goods', 'road'), Frequency: 10\n",
            "Bigram: ('social', 'cohesion'), Frequency: 10\n",
            "Bigram: ('mr', 'berend'), Frequency: 10\n",
            "Bigram: ('would', 'ask'), Frequency: 9\n",
            "Bigram: ('also', 'like'), Frequency: 9\n",
            "Bigram: ('take', 'account'), Frequency: 9\n",
            "Bigram: ('behalf', 'committee'), Frequency: 9\n",
            "Bigram: ('sixth', 'periodic'), Frequency: 9\n",
            "Bigram: ('european', 'socialists'), Frequency: 8\n",
            "Bigram: ('would', 'also'), Frequency: 8\n",
            "Bigram: ('committee', 'regional'), Frequency: 8\n",
            "Bigram: ('sustainable', 'development'), Frequency: 8\n",
            "Bigram: ('european', 'commission'), Frequency: 8\n",
            "Bigram: ('committee', 'economic'), Frequency: 8\n",
            "Bigram: ('economic', 'monetary'), Frequency: 8\n",
            "Bigram: ('monetary', 'affairs'), Frequency: 8\n",
            "Bigram: ('market', 'economy'), Frequency: 8\n",
            "Bigram: ('thank', 'mr'), Frequency: 7\n",
            "Bigram: ('mrs', 'schroedter'), Frequency: 7\n",
            "Bigram: ('group', 'party'), Frequency: 7\n",
            "Bigram: ('party', 'european'), Frequency: 7\n",
            "Bigram: ('like', 'say'), Frequency: 7\n",
            "Bigram: ('policy', 'transport'), Frequency: 7\n",
            "Bigram: ('transport', 'safety'), Frequency: 7\n",
            "Bigram: ('rapporteur', 'mr'), Frequency: 7\n",
            "Bigram: ('cohesion', 'fund'), Frequency: 7\n",
            "Bigram: ('objective', '1'), Frequency: 7\n",
            "\n",
            "Top 50 meaningful bigrams for machine translations:\n",
            "Bigram: ('would', 'like'), Frequency: 81\n",
            "Bigram: ('mr', 'president'), Frequency: 61\n",
            "Bigram: ('member', 'states'), Frequency: 47\n",
            "Bigram: ('state', 'aid'), Frequency: 37\n",
            "Bigram: ('european', 'union'), Frequency: 32\n",
            "Bigram: ('competition', 'policy'), Frequency: 30\n",
            "Bigram: ('madam', 'president'), Frequency: 29\n",
            "Bigram: ('commission', \"'s\"), Frequency: 28\n",
            "Bigram: ('ladies', 'gentlemen'), Frequency: 28\n",
            "Bigram: ('structural', 'funds'), Frequency: 26\n",
            "Bigram: ('dangerous', 'goods'), Frequency: 25\n",
            "Bigram: ('regional', 'policy'), Frequency: 23\n",
            "Bigram: ('president', 'commissioner'), Frequency: 19\n",
            "Bigram: ('transport', 'dangerous'), Frequency: 16\n",
            "Bigram: ('commissioner', 'ladies'), Frequency: 16\n",
            "Bigram: ('like', 'thank'), Frequency: 15\n",
            "Bigram: ('white', 'paper'), Frequency: 15\n",
            "Bigram: ('internal', 'market'), Frequency: 14\n",
            "Bigram: ('european', 'parliament'), Frequency: 13\n",
            "Bigram: ('economic', 'social'), Frequency: 13\n",
            "Bigram: ('would', 'also'), Frequency: 12\n",
            "Bigram: ('mr', 'koch'), Frequency: 12\n",
            "Bigram: ('also', 'like'), Frequency: 11\n",
            "Bigram: ('goods', 'road'), Frequency: 11\n",
            "Bigram: ('rural', 'areas'), Frequency: 11\n",
            "Bigram: ('periodic', 'report'), Frequency: 11\n",
            "Bigram: ('president', 'would'), Frequency: 10\n",
            "Bigram: ('first', 'would'), Frequency: 10\n",
            "Bigram: ('safety', 'advisers'), Frequency: 10\n",
            "Bigram: ('road', 'rail'), Frequency: 10\n",
            "Bigram: ('cohesion', 'fund'), Frequency: 10\n",
            "Bigram: ('social', 'cohesion'), Frequency: 10\n",
            "Bigram: ('like', 'make'), Frequency: 9\n",
            "Bigram: ('president', 'ladies'), Frequency: 9\n",
            "Bigram: ('point', 'view'), Frequency: 9\n",
            "Bigram: ('sixth', 'periodic'), Frequency: 9\n",
            "Bigram: ('european', 'socialists'), Frequency: 8\n",
            "Bigram: ('taken', 'account'), Frequency: 8\n",
            "Bigram: ('transport', 'safety'), Frequency: 8\n",
            "Bigram: ('behalf', 'committee'), Frequency: 8\n",
            "Bigram: ('take', 'account'), Frequency: 8\n",
            "Bigram: ('small', 'medium-sized'), Frequency: 8\n",
            "Bigram: ('union', \"'s\"), Frequency: 8\n",
            "Bigram: ('public', 'aid'), Frequency: 8\n",
            "Bigram: ('competition', 'law'), Frequency: 8\n",
            "Bigram: ('market', 'economy'), Frequency: 8\n",
            "Bigram: ('like', 'say'), Frequency: 7\n",
            "Bigram: ('committee', 'regional'), Frequency: 7\n",
            "Bigram: ('colleague', 'mr'), Frequency: 7\n",
            "Bigram: ('rapporteur', 'mr'), Frequency: 7\n"
          ]
        }
      ]
    },
    {
      "cell_type": "markdown",
      "source": [
        "### Comparison of trigrams"
      ],
      "metadata": {
        "id": "oiXeaRNNlJGN"
      }
    },
    {
      "cell_type": "code",
      "source": [
        "from nltk import trigrams\n",
        "\n",
        "# Function to count trigram frequencies, excluding stopwords and punctuation\n",
        "def count_trigram_frequencies_clean(texts):\n",
        "    all_trigrams = []\n",
        "    for text in texts:\n",
        "        tokens = [token for token in tokenize(text) if token not in stop_words and token not in punctuation]\n",
        "        trigrams_list = list(trigrams(tokens))\n",
        "        all_trigrams.extend(trigrams_list)\n",
        "    return Counter(all_trigrams)\n",
        "\n",
        "# Calculate trigram frequencies for human translations (excluding stopwords and punctuation)\n",
        "human_trigram_freq_clean = count_trigram_frequencies_clean(comparison_df['english_human'])\n",
        "\n",
        "# Calculate trigram frequencies for machine translations (excluding stopwords and punctuation)\n",
        "mt_trigram_freq_clean = count_trigram_frequencies_clean(comparison_df['english_mt'])\n",
        "\n",
        "# Get the top 50 trigrams for human translations\n",
        "top_50_human_trigrams_clean = human_trigram_freq_clean.most_common(50)\n",
        "\n",
        "# Get the top 50 trigrams for machine translations\n",
        "top_50_mt_trigrams_clean = mt_trigram_freq_clean.most_common(50)\n",
        "\n",
        "# Output the top 50 trigrams for human translations\n",
        "print(\"Top 50 meaningful trigrams for human translations:\")\n",
        "for trigram, freq in top_50_human_trigrams_clean:\n",
        "    print(f\"Trigram: {trigram}, Frequency: {freq}\")\n",
        "\n",
        "# Output the top 50 trigrams for machine translations\n",
        "print(\"\\nTop 50 meaningful trigrams for machine translations:\")\n",
        "for trigram, freq in top_50_mt_trigrams_clean:\n",
        "    print(f\"Trigram: {trigram}, Frequency: {freq}\")\n"
      ],
      "metadata": {
        "id": "j8OuE64NDy54",
        "outputId": "c2b3311c-2f5b-4c6b-f9d3-e73cead78439",
        "colab": {
          "base_uri": "https://localhost:8080/"
        }
      },
      "execution_count": null,
      "outputs": [
        {
          "output_type": "stream",
          "name": "stdout",
          "text": [
            "Top 50 meaningful trigrams for human translations:\n",
            "Trigram: ('mr', 'president', 'commissioner'), Frequency: 22\n",
            "Trigram: ('transport', 'dangerous', 'goods'), Frequency: 15\n",
            "Trigram: ('president', 'would', 'like'), Frequency: 12\n",
            "Trigram: ('dangerous', 'goods', 'road'), Frequency: 10\n",
            "Trigram: ('mr', 'president', 'would'), Frequency: 9\n",
            "Trigram: ('sixth', 'periodic', 'report'), Frequency: 9\n",
            "Trigram: ('madam', 'president', 'would'), Frequency: 8\n",
            "Trigram: ('would', 'also', 'like'), Frequency: 8\n",
            "Trigram: ('committee', 'regional', 'policy'), Frequency: 8\n",
            "Trigram: ('economic', 'social', 'cohesion'), Frequency: 8\n",
            "Trigram: ('committee', 'economic', 'monetary'), Frequency: 8\n",
            "Trigram: ('economic', 'monetary', 'affairs'), Frequency: 8\n",
            "Trigram: ('group', 'party', 'european'), Frequency: 7\n",
            "Trigram: ('party', 'european', 'socialists'), Frequency: 7\n",
            "Trigram: ('regional', 'policy', 'transport'), Frequency: 7\n",
            "Trigram: ('would', 'like', 'say'), Frequency: 6\n",
            "Trigram: ('policy', 'transport', 'tourism'), Frequency: 6\n",
            "Trigram: ('steel', 'aid', 'code'), Frequency: 6\n",
            "Trigram: ('next', 'five', 'years'), Frequency: 5\n",
            "Trigram: ('would', 'like', 'make'), Frequency: 5\n",
            "Trigram: ('would', 'like', 'thank'), Frequency: 5\n",
            "Trigram: ('road', 'rail', 'inland'), Frequency: 5\n",
            "Trigram: ('rapporteur', 'mr', 'koch'), Frequency: 5\n",
            "Trigram: ('structural', 'funds', 'cohesion'), Frequency: 5\n",
            "Trigram: ('women', 'young', 'people'), Frequency: 5\n",
            "Trigram: ('social', 'economic', 'situation'), Frequency: 5\n",
            "Trigram: ('european', 'competition', 'policy'), Frequency: 5\n",
            "Trigram: ('mr', 'von', 'wogau'), Frequency: 5\n",
            "Trigram: ('like', 'thank', 'mr'), Frequency: 4\n",
            "Trigram: ('safety', 'advisers', 'transport'), Frequency: 4\n",
            "Trigram: ('advisers', 'transport', 'dangerous'), Frequency: 4\n",
            "Trigram: ('behalf', 'committee', 'regional'), Frequency: 4\n",
            "Trigram: ('goods', 'road', 'rail'), Frequency: 4\n",
            "Trigram: ('vote', 'take', 'place'), Frequency: 4\n",
            "Trigram: ('take', 'place', 'tomorrow'), Frequency: 4\n",
            "Trigram: ('place', 'tomorrow', '12'), Frequency: 4\n",
            "Trigram: ('tomorrow', '12', 'p.m'), Frequency: 4\n",
            "Trigram: ('within', 'european', 'union'), Frequency: 4\n",
            "Trigram: ('would', 'like', 'congratulate'), Frequency: 4\n",
            "Trigram: ('committee', 'employment', 'social'), Frequency: 4\n",
            "Trigram: ('employment', 'social', 'affairs'), Frequency: 4\n",
            "Trigram: ('president', 'commissioner', 'would'), Frequency: 4\n",
            "Trigram: ('small', 'medium-sized', 'businesses'), Frequency: 4\n",
            "Trigram: ('union', 'regional', 'policy'), Frequency: 4\n",
            "Trigram: ('structural', 'cohesion', 'funds'), Frequency: 4\n",
            "Trigram: ('point', 'regarding', 'policy'), Frequency: 4\n",
            "Trigram: ('behalf', 'committee', 'economic'), Frequency: 4\n",
            "Trigram: ('commission', 'white', 'paper'), Frequency: 4\n",
            "Trigram: ('level', 'state', 'aid'), Frequency: 4\n",
            "Trigram: ('like', 'draw', 'attention'), Frequency: 3\n",
            "\n",
            "Top 50 meaningful trigrams for machine translations:\n",
            "Trigram: ('mr', 'president', 'commissioner'), Frequency: 19\n",
            "Trigram: ('transport', 'dangerous', 'goods'), Frequency: 16\n",
            "Trigram: ('president', 'commissioner', 'ladies'), Frequency: 16\n",
            "Trigram: ('commissioner', 'ladies', 'gentlemen'), Frequency: 16\n",
            "Trigram: ('would', 'also', 'like'), Frequency: 11\n",
            "Trigram: ('would', 'like', 'thank'), Frequency: 11\n",
            "Trigram: ('president', 'would', 'like'), Frequency: 10\n",
            "Trigram: ('dangerous', 'goods', 'road'), Frequency: 10\n",
            "Trigram: ('first', 'would', 'like'), Frequency: 9\n",
            "Trigram: ('president', 'ladies', 'gentlemen'), Frequency: 9\n",
            "Trigram: ('sixth', 'periodic', 'report'), Frequency: 9\n",
            "Trigram: ('mr', 'president', 'ladies'), Frequency: 8\n",
            "Trigram: ('economic', 'social', 'cohesion'), Frequency: 8\n",
            "Trigram: ('would', 'like', 'say'), Frequency: 7\n",
            "Trigram: ('committee', 'regional', 'policy'), Frequency: 7\n",
            "Trigram: ('small', 'medium-sized', 'enterprises'), Frequency: 7\n",
            "Trigram: ('group', 'party', 'european'), Frequency: 6\n",
            "Trigram: ('party', 'european', 'socialists'), Frequency: 6\n",
            "Trigram: ('road', 'rail', 'inland'), Frequency: 6\n",
            "Trigram: ('would', 'like', 'make'), Frequency: 6\n",
            "Trigram: ('committee', 'economic', 'monetary'), Frequency: 6\n",
            "Trigram: ('economic', 'monetary', 'affairs'), Frequency: 6\n",
            "Trigram: ('would', 'like', 'know'), Frequency: 5\n",
            "Trigram: ('madam', 'president', 'would'), Frequency: 5\n",
            "Trigram: ('president', 'first', 'would'), Frequency: 5\n",
            "Trigram: ('would', 'like', 'congratulate'), Frequency: 5\n",
            "Trigram: ('next', 'five', 'years'), Frequency: 5\n",
            "Trigram: ('goods', 'road', 'rail'), Frequency: 5\n",
            "Trigram: ('rail', 'inland', 'waterway'), Frequency: 5\n",
            "Trigram: ('regional', 'policy', 'transport'), Frequency: 5\n",
            "Trigram: ('policy', 'transport', 'tourism'), Frequency: 5\n",
            "Trigram: ('rapporteur', 'mr', 'koch'), Frequency: 5\n",
            "Trigram: ('mr', 'president', 'would'), Frequency: 5\n",
            "Trigram: ('women', 'young', 'people'), Frequency: 5\n",
            "Trigram: ('european', 'competition', 'policy'), Frequency: 5\n",
            "Trigram: ('steel', 'aid', 'code'), Frequency: 5\n",
            "Trigram: ('like', 'thank', 'mr'), Frequency: 4\n",
            "Trigram: ('safety', 'advisers', 'transport'), Frequency: 4\n",
            "Trigram: ('advisers', 'transport', 'dangerous'), Frequency: 4\n",
            "Trigram: ('vote', 'take', 'place'), Frequency: 4\n",
            "Trigram: ('take', 'place', 'tomorrow'), Frequency: 4\n",
            "Trigram: ('place', 'tomorrow', '12'), Frequency: 4\n",
            "Trigram: ('tomorrow', '12', 'noon'), Frequency: 4\n",
            "Trigram: ('committee', 'employment', 'social'), Frequency: 4\n",
            "Trigram: ('employment', 'social', 'affairs'), Frequency: 4\n",
            "Trigram: ('european', 'social', 'fund'), Frequency: 4\n",
            "Trigram: ('would', 'like', 'stress'), Frequency: 4\n",
            "Trigram: ('structural', 'funds', 'cohesion'), Frequency: 4\n",
            "Trigram: (\"'s\", 'regional', 'policy'), Frequency: 4\n",
            "Trigram: ('regions', 'european', 'union'), Frequency: 4\n"
          ]
        }
      ]
    }
  ],
  "metadata": {
    "kernelspec": {
      "display_name": "Python 3",
      "name": "python3"
    },
    "language_info": {
      "codemirror_mode": {
        "name": "ipython",
        "version": 3
      },
      "file_extension": ".py",
      "mimetype": "text/x-python",
      "name": "python",
      "nbconvert_exporter": "python",
      "pygments_lexer": "ipython3",
      "version": "3.11.6"
    },
    "orig_nbformat": 4,
    "colab": {
      "provenance": [],
      "collapsed_sections": [
        "U1ZPG6U8dW5Q"
      ]
    }
  },
  "nbformat": 4,
  "nbformat_minor": 0
}